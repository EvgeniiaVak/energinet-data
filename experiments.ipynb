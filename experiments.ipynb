{
 "cells": [
  {
   "cell_type": "markdown",
   "metadata": {},
   "source": [
    "# SHARE OF BIOGAS IN THE GAS SYSTEM"
   ]
  },
  {
   "cell_type": "markdown",
   "metadata": {},
   "source": [
    "## Goal\n",
    "\n",
    "This is an exercise in understanding an SQL request and translating it to pandas script. The goal is to generate data for the graph on https://www.energidataservice.dk/. \n",
    "\n",
    "## Source SQL\n",
    "\n",
    "```SQL=\n",
    "with c1 as (\n",
    "\tselect cast(date_trunc('month', \"GasDay\") as date) as mn,  Sum(\"KWhFromBiogas\") as bio, Sum(ABS(\"KWhToDenmark\")) as cons\n",
    "\tfrom \"gasflow\" \n",
    "\twhere cast(date_trunc('month', now() AT TIME ZONE 'UTC' - interval '2 year') as date) <= \"GasDay\" AND \"GasDay\" < cast(date_trunc('month', now() AT TIME ZONE 'UTC') as date)\n",
    "\tgroup by cast(date_trunc('month', \"GasDay\") as date)\n",
    ")\n",
    ", c2 as (\n",
    "\tselect mn, cons, sum(cons) OVER (order by mn rows between 11 preceding and current row) as yearcons, bio,\n",
    "\tdate_part('days', date_trunc('month', mn) - '1DAY - 1MONTH'::INTERVAL) as days\n",
    "\tfrom c1\n",
    ")\n",
    "select LEFT(TO_CHAR(mn, 'MON'), 2) as \"GasDay\", round( CAST(float8 (bio * 365 / days / yearcons * 100) as numeric), 1) as \"KWhFromBiogas\"\n",
    "from c2 \n",
    "where mn >= cast(date_trunc('month', now() AT TIME ZONE 'Europe/Rome' - interval '1 year') as date)\n",
    "order by mn\n",
    "```\n",
    "\n",
    "## Source Data\n",
    "\n",
    "The source data was downloaded for this exercise from https://www.energidataservice.dk/dataset/9c12a3dd-71e8-433b-b78e-72021838d987/resource_extract/f40147ba-8e83-438e-9e89-bfddd0cba81f with filters for the GasDay for the last 2 years."
   ]
  },
  {
   "cell_type": "code",
   "execution_count": 2,
   "metadata": {},
   "outputs": [],
   "source": [
    "import pandas as pd"
   ]
  },
  {
   "cell_type": "markdown",
   "metadata": {},
   "source": [
    "By downloading the data for the last 2 years, the following filter was already applied:\n",
    "```SQL\n",
    "where cast(date_trunc('month', now() AT TIME ZONE 'UTC' - interval '2 year') as date) <= \"GasDay\" AND \"GasDay\" < cast(date_trunc('month', now() AT TIME ZONE 'UTC') as date)\n",
    "```"
   ]
  },
  {
   "cell_type": "code",
   "execution_count": 3,
   "metadata": {},
   "outputs": [
    {
     "data": {
      "text/html": "<div>\n<style scoped>\n    .dataframe tbody tr th:only-of-type {\n        vertical-align: middle;\n    }\n\n    .dataframe tbody tr th {\n        vertical-align: top;\n    }\n\n    .dataframe thead th {\n        text-align: right;\n    }\n</style>\n<table border=\"1\" class=\"dataframe\">\n  <thead>\n    <tr style=\"text-align: right;\">\n      <th></th>\n      <th>KWhFromBiogas</th>\n      <th>KWhToDenmark</th>\n      <th>KWhFromNorthSea</th>\n      <th>KWhToOrFromStorage</th>\n      <th>KWhToOrFromGermany</th>\n      <th>KWhToSweden</th>\n    </tr>\n    <tr>\n      <th>GasDay</th>\n      <th></th>\n      <th></th>\n      <th></th>\n      <th></th>\n      <th></th>\n      <th></th>\n    </tr>\n  </thead>\n  <tbody>\n    <tr>\n      <th>2019-11-12</th>\n      <td>8707816</td>\n      <td>-110556673</td>\n      <td>3960000</td>\n      <td>-3940871</td>\n      <td>120516272</td>\n      <td>-25526524</td>\n    </tr>\n    <tr>\n      <th>2019-11-11</th>\n      <td>8716894</td>\n      <td>-107407541</td>\n      <td>3840000</td>\n      <td>-5146203</td>\n      <td>126948272</td>\n      <td>-29393329</td>\n    </tr>\n    <tr>\n      <th>2019-11-10</th>\n      <td>9110262</td>\n      <td>-95785479</td>\n      <td>3960000</td>\n      <td>-23620807</td>\n      <td>127158252</td>\n      <td>-25523940</td>\n    </tr>\n    <tr>\n      <th>2019-11-09</th>\n      <td>9258907</td>\n      <td>-100999820</td>\n      <td>3615000</td>\n      <td>-14062004</td>\n      <td>138233272</td>\n      <td>-24293794</td>\n    </tr>\n    <tr>\n      <th>2019-11-08</th>\n      <td>9171005</td>\n      <td>-112648950</td>\n      <td>3360000</td>\n      <td>-9213003</td>\n      <td>141357712</td>\n      <td>-25072131</td>\n    </tr>\n  </tbody>\n</table>\n</div>",
      "text/plain": "            KWhFromBiogas  KWhToDenmark  KWhFromNorthSea  KWhToOrFromStorage  \\\nGasDay                                                                         \n2019-11-12        8707816    -110556673          3960000            -3940871   \n2019-11-11        8716894    -107407541          3840000            -5146203   \n2019-11-10        9110262     -95785479          3960000           -23620807   \n2019-11-09        9258907    -100999820          3615000           -14062004   \n2019-11-08        9171005    -112648950          3360000            -9213003   \n\n            KWhToOrFromGermany  KWhToSweden  \nGasDay                                       \n2019-11-12           120516272    -25526524  \n2019-11-11           126948272    -29393329  \n2019-11-10           127158252    -25523940  \n2019-11-09           138233272    -24293794  \n2019-11-08           141357712    -25072131  "
     },
     "execution_count": 3,
     "metadata": {},
     "output_type": "execute_result"
    }
   ],
   "source": [
    "kwh_last_2_years = pd.read_csv('commercial_gas_amounts_data_last_2_years.csv', index_col='GasDay', parse_dates=True)\n",
    "kwh_last_2_years.head()"
   ]
  },
  {
   "cell_type": "code",
   "execution_count": 4,
   "metadata": {},
   "outputs": [
    {
     "data": {
      "text/html": "<div>\n<style scoped>\n    .dataframe tbody tr th:only-of-type {\n        vertical-align: middle;\n    }\n\n    .dataframe tbody tr th {\n        vertical-align: top;\n    }\n\n    .dataframe thead th {\n        text-align: right;\n    }\n</style>\n<table border=\"1\" class=\"dataframe\">\n  <thead>\n    <tr style=\"text-align: right;\">\n      <th></th>\n      <th>mn</th>\n      <th>bio</th>\n      <th>cons</th>\n    </tr>\n    <tr>\n      <th>GasDay</th>\n      <th></th>\n      <th></th>\n      <th></th>\n    </tr>\n  </thead>\n  <tbody>\n    <tr>\n      <th>2017-11-30</th>\n      <td>2017-11-30</td>\n      <td>93042317</td>\n      <td>1980326988</td>\n    </tr>\n    <tr>\n      <th>2017-12-31</th>\n      <td>2017-12-31</td>\n      <td>166915253</td>\n      <td>3402667812</td>\n    </tr>\n    <tr>\n      <th>2018-01-31</th>\n      <td>2018-01-31</td>\n      <td>162328416</td>\n      <td>4156028550</td>\n    </tr>\n    <tr>\n      <th>2018-02-28</th>\n      <td>2018-02-28</td>\n      <td>149595805</td>\n      <td>4290611682</td>\n    </tr>\n    <tr>\n      <th>2018-03-31</th>\n      <td>2018-03-31</td>\n      <td>162545142</td>\n      <td>4311347919</td>\n    </tr>\n  </tbody>\n</table>\n</div>",
      "text/plain": "                   mn        bio        cons\nGasDay                                      \n2017-11-30 2017-11-30   93042317  1980326988\n2017-12-31 2017-12-31  166915253  3402667812\n2018-01-31 2018-01-31  162328416  4156028550\n2018-02-28 2018-02-28  149595805  4290611682\n2018-03-31 2018-03-31  162545142  4311347919"
     },
     "execution_count": 4,
     "metadata": {},
     "output_type": "execute_result"
    }
   ],
   "source": [
    "\"\"\"\n",
    "with c1 as (\n",
    "\tselect cast(date_trunc('month', \"GasDay\") as date) as mn,  Sum(\"KWhFromBiogas\") as bio, Sum(ABS(\"KWhToDenmark\")) as cons\n",
    "\tfrom \"gasflow\" \n",
    "\twhere cast(date_trunc('month', now() AT TIME ZONE 'UTC' - interval '2 year') as date) <= \"GasDay\" AND \"GasDay\" < cast(date_trunc('month', now() AT TIME ZONE 'UTC') as date)\n",
    "\tgroup by cast(date_trunc('month', \"GasDay\") as date)\n",
    ")\n",
    "\"\"\"\n",
    "\n",
    "kwh_by_month = kwh_last_2_years.abs().resample('M').sum()\n",
    "c1 = pd.DataFrame(index=kwh_by_month.index)\n",
    "c1['mn'] = kwh_by_month.index\n",
    "c1['bio'] = kwh_by_month.KWhFromBiogas\n",
    "c1['cons'] = kwh_by_month.KWhToDenmark\n",
    "c1.head()"
   ]
  },
  {
   "cell_type": "code",
   "execution_count": 5,
   "metadata": {},
   "outputs": [
    {
     "data": {
      "text/html": "<div>\n<style scoped>\n    .dataframe tbody tr th:only-of-type {\n        vertical-align: middle;\n    }\n\n    .dataframe tbody tr th {\n        vertical-align: top;\n    }\n\n    .dataframe thead th {\n        text-align: right;\n    }\n</style>\n<table border=\"1\" class=\"dataframe\">\n  <thead>\n    <tr style=\"text-align: right;\">\n      <th></th>\n      <th>mn</th>\n      <th>bio</th>\n      <th>cons</th>\n      <th>yearcons</th>\n      <th>days</th>\n    </tr>\n    <tr>\n      <th>GasDay</th>\n      <th></th>\n      <th></th>\n      <th></th>\n      <th></th>\n      <th></th>\n    </tr>\n  </thead>\n  <tbody>\n    <tr>\n      <th>2017-11-30</th>\n      <td>2017-11-30</td>\n      <td>93042317</td>\n      <td>1980326988</td>\n      <td>NaN</td>\n      <td>30</td>\n    </tr>\n    <tr>\n      <th>2017-12-31</th>\n      <td>2017-12-31</td>\n      <td>166915253</td>\n      <td>3402667812</td>\n      <td>NaN</td>\n      <td>31</td>\n    </tr>\n    <tr>\n      <th>2018-01-31</th>\n      <td>2018-01-31</td>\n      <td>162328416</td>\n      <td>4156028550</td>\n      <td>NaN</td>\n      <td>31</td>\n    </tr>\n    <tr>\n      <th>2018-02-28</th>\n      <td>2018-02-28</td>\n      <td>149595805</td>\n      <td>4290611682</td>\n      <td>NaN</td>\n      <td>28</td>\n    </tr>\n    <tr>\n      <th>2018-03-31</th>\n      <td>2018-03-31</td>\n      <td>162545142</td>\n      <td>4311347919</td>\n      <td>NaN</td>\n      <td>31</td>\n    </tr>\n    <tr>\n      <th>2018-04-30</th>\n      <td>2018-04-30</td>\n      <td>157072701</td>\n      <td>2192381331</td>\n      <td>NaN</td>\n      <td>30</td>\n    </tr>\n    <tr>\n      <th>2018-05-31</th>\n      <td>2018-05-31</td>\n      <td>171497795</td>\n      <td>1425508440</td>\n      <td>NaN</td>\n      <td>31</td>\n    </tr>\n    <tr>\n      <th>2018-06-30</th>\n      <td>2018-06-30</td>\n      <td>166200918</td>\n      <td>1158314496</td>\n      <td>NaN</td>\n      <td>30</td>\n    </tr>\n    <tr>\n      <th>2018-07-31</th>\n      <td>2018-07-31</td>\n      <td>185848469</td>\n      <td>1007209600</td>\n      <td>NaN</td>\n      <td>31</td>\n    </tr>\n    <tr>\n      <th>2018-08-31</th>\n      <td>2018-08-31</td>\n      <td>190265750</td>\n      <td>1337098157</td>\n      <td>NaN</td>\n      <td>31</td>\n    </tr>\n    <tr>\n      <th>2018-09-30</th>\n      <td>2018-09-30</td>\n      <td>193176037</td>\n      <td>1568096598</td>\n      <td>NaN</td>\n      <td>30</td>\n    </tr>\n    <tr>\n      <th>2018-10-31</th>\n      <td>2018-10-31</td>\n      <td>202009557</td>\n      <td>2215626318</td>\n      <td>2.904522e+10</td>\n      <td>31</td>\n    </tr>\n    <tr>\n      <th>2018-11-30</th>\n      <td>2018-11-30</td>\n      <td>209597872</td>\n      <td>3189876926</td>\n      <td>3.025477e+10</td>\n      <td>30</td>\n    </tr>\n    <tr>\n      <th>2018-12-31</th>\n      <td>2018-12-31</td>\n      <td>226779205</td>\n      <td>3414075789</td>\n      <td>3.026618e+10</td>\n      <td>31</td>\n    </tr>\n    <tr>\n      <th>2019-01-31</th>\n      <td>2019-01-31</td>\n      <td>229976111</td>\n      <td>4118475901</td>\n      <td>3.022862e+10</td>\n      <td>31</td>\n    </tr>\n    <tr>\n      <th>2019-02-28</th>\n      <td>2019-02-28</td>\n      <td>216562784</td>\n      <td>3118599805</td>\n      <td>2.905661e+10</td>\n      <td>28</td>\n    </tr>\n    <tr>\n      <th>2019-03-31</th>\n      <td>2019-03-31</td>\n      <td>240491102</td>\n      <td>3005621893</td>\n      <td>2.775089e+10</td>\n      <td>31</td>\n    </tr>\n    <tr>\n      <th>2019-04-30</th>\n      <td>2019-04-30</td>\n      <td>227683108</td>\n      <td>2105863413</td>\n      <td>2.766437e+10</td>\n      <td>30</td>\n    </tr>\n    <tr>\n      <th>2019-05-31</th>\n      <td>2019-05-31</td>\n      <td>238539770</td>\n      <td>1942728725</td>\n      <td>2.818159e+10</td>\n      <td>31</td>\n    </tr>\n    <tr>\n      <th>2019-06-30</th>\n      <td>2019-06-30</td>\n      <td>234319613</td>\n      <td>1317631640</td>\n      <td>2.834090e+10</td>\n      <td>30</td>\n    </tr>\n    <tr>\n      <th>2019-07-31</th>\n      <td>2019-07-31</td>\n      <td>251220236</td>\n      <td>1284746568</td>\n      <td>2.861844e+10</td>\n      <td>31</td>\n    </tr>\n    <tr>\n      <th>2019-08-31</th>\n      <td>2019-08-31</td>\n      <td>247123140</td>\n      <td>1500219071</td>\n      <td>2.878156e+10</td>\n      <td>31</td>\n    </tr>\n    <tr>\n      <th>2019-09-30</th>\n      <td>2019-09-30</td>\n      <td>259419956</td>\n      <td>1685802654</td>\n      <td>2.889927e+10</td>\n      <td>30</td>\n    </tr>\n    <tr>\n      <th>2019-10-31</th>\n      <td>2019-10-31</td>\n      <td>272097925</td>\n      <td>2599070384</td>\n      <td>2.928271e+10</td>\n      <td>31</td>\n    </tr>\n    <tr>\n      <th>2019-11-30</th>\n      <td>2019-11-30</td>\n      <td>108116884</td>\n      <td>1302302332</td>\n      <td>2.739514e+10</td>\n      <td>30</td>\n    </tr>\n  </tbody>\n</table>\n</div>",
      "text/plain": "                   mn        bio        cons      yearcons  days\nGasDay                                                          \n2017-11-30 2017-11-30   93042317  1980326988           NaN    30\n2017-12-31 2017-12-31  166915253  3402667812           NaN    31\n2018-01-31 2018-01-31  162328416  4156028550           NaN    31\n2018-02-28 2018-02-28  149595805  4290611682           NaN    28\n2018-03-31 2018-03-31  162545142  4311347919           NaN    31\n2018-04-30 2018-04-30  157072701  2192381331           NaN    30\n2018-05-31 2018-05-31  171497795  1425508440           NaN    31\n2018-06-30 2018-06-30  166200918  1158314496           NaN    30\n2018-07-31 2018-07-31  185848469  1007209600           NaN    31\n2018-08-31 2018-08-31  190265750  1337098157           NaN    31\n2018-09-30 2018-09-30  193176037  1568096598           NaN    30\n2018-10-31 2018-10-31  202009557  2215626318  2.904522e+10    31\n2018-11-30 2018-11-30  209597872  3189876926  3.025477e+10    30\n2018-12-31 2018-12-31  226779205  3414075789  3.026618e+10    31\n2019-01-31 2019-01-31  229976111  4118475901  3.022862e+10    31\n2019-02-28 2019-02-28  216562784  3118599805  2.905661e+10    28\n2019-03-31 2019-03-31  240491102  3005621893  2.775089e+10    31\n2019-04-30 2019-04-30  227683108  2105863413  2.766437e+10    30\n2019-05-31 2019-05-31  238539770  1942728725  2.818159e+10    31\n2019-06-30 2019-06-30  234319613  1317631640  2.834090e+10    30\n2019-07-31 2019-07-31  251220236  1284746568  2.861844e+10    31\n2019-08-31 2019-08-31  247123140  1500219071  2.878156e+10    31\n2019-09-30 2019-09-30  259419956  1685802654  2.889927e+10    30\n2019-10-31 2019-10-31  272097925  2599070384  2.928271e+10    31\n2019-11-30 2019-11-30  108116884  1302302332  2.739514e+10    30"
     },
     "execution_count": 5,
     "metadata": {},
     "output_type": "execute_result"
    }
   ],
   "source": [
    "\"\"\"\n",
    ", c2 as (\n",
    "\tselect mn, cons, sum(cons) OVER (order by mn rows between 11 preceding and current row) as yearcons, bio,\n",
    "\tdate_part('days', date_trunc('month', mn) - '1DAY - 1MONTH'::INTERVAL) as days\n",
    "\tfrom c1 \n",
    ")\n",
    "\"\"\"\n",
    "c2 = c1.copy(deep=True)\n",
    "c2['yearcons'] = c2['cons'].rolling(window=12, min_periods=12).sum()\n",
    "c2['days'] = c2.index.daysinmonth\n",
    "c2"
   ]
  },
  {
   "cell_type": "code",
   "execution_count": 6,
   "metadata": {},
   "outputs": [
    {
     "data": {
      "text/plain": "29045217891"
     },
     "execution_count": 6,
     "metadata": {},
     "output_type": "execute_result"
    }
   ],
   "source": [
    "# test that all this rolling business is indeed what we want\n",
    "test_12_months = c2[c2['mn'] <= '2018-10-31']\n",
    "test_12_months.cons.sum()"
   ]
  },
  {
   "cell_type": "code",
   "execution_count": 7,
   "metadata": {},
   "outputs": [
    {
     "data": {
      "text/html": "<div>\n<style scoped>\n    .dataframe tbody tr th:only-of-type {\n        vertical-align: middle;\n    }\n\n    .dataframe tbody tr th {\n        vertical-align: top;\n    }\n\n    .dataframe thead th {\n        text-align: right;\n    }\n</style>\n<table border=\"1\" class=\"dataframe\">\n  <thead>\n    <tr style=\"text-align: right;\">\n      <th></th>\n      <th>mn</th>\n      <th>bio</th>\n      <th>cons</th>\n      <th>yearcons</th>\n      <th>days</th>\n      <th>KWhFromBiogas</th>\n    </tr>\n    <tr>\n      <th>GasDay</th>\n      <th></th>\n      <th></th>\n      <th></th>\n      <th></th>\n      <th></th>\n      <th></th>\n    </tr>\n  </thead>\n  <tbody>\n    <tr>\n      <th>2017-11-30</th>\n      <td>2017-11-30</td>\n      <td>93042317</td>\n      <td>1980326988</td>\n      <td>NaN</td>\n      <td>30</td>\n      <td>NaN</td>\n    </tr>\n    <tr>\n      <th>2017-12-31</th>\n      <td>2017-12-31</td>\n      <td>166915253</td>\n      <td>3402667812</td>\n      <td>NaN</td>\n      <td>31</td>\n      <td>NaN</td>\n    </tr>\n    <tr>\n      <th>2018-01-31</th>\n      <td>2018-01-31</td>\n      <td>162328416</td>\n      <td>4156028550</td>\n      <td>NaN</td>\n      <td>31</td>\n      <td>NaN</td>\n    </tr>\n    <tr>\n      <th>2018-02-28</th>\n      <td>2018-02-28</td>\n      <td>149595805</td>\n      <td>4290611682</td>\n      <td>NaN</td>\n      <td>28</td>\n      <td>NaN</td>\n    </tr>\n    <tr>\n      <th>2018-03-31</th>\n      <td>2018-03-31</td>\n      <td>162545142</td>\n      <td>4311347919</td>\n      <td>NaN</td>\n      <td>31</td>\n      <td>NaN</td>\n    </tr>\n    <tr>\n      <th>2018-04-30</th>\n      <td>2018-04-30</td>\n      <td>157072701</td>\n      <td>2192381331</td>\n      <td>NaN</td>\n      <td>30</td>\n      <td>NaN</td>\n    </tr>\n    <tr>\n      <th>2018-05-31</th>\n      <td>2018-05-31</td>\n      <td>171497795</td>\n      <td>1425508440</td>\n      <td>NaN</td>\n      <td>31</td>\n      <td>NaN</td>\n    </tr>\n    <tr>\n      <th>2018-06-30</th>\n      <td>2018-06-30</td>\n      <td>166200918</td>\n      <td>1158314496</td>\n      <td>NaN</td>\n      <td>30</td>\n      <td>NaN</td>\n    </tr>\n    <tr>\n      <th>2018-07-31</th>\n      <td>2018-07-31</td>\n      <td>185848469</td>\n      <td>1007209600</td>\n      <td>NaN</td>\n      <td>31</td>\n      <td>NaN</td>\n    </tr>\n    <tr>\n      <th>2018-08-31</th>\n      <td>2018-08-31</td>\n      <td>190265750</td>\n      <td>1337098157</td>\n      <td>NaN</td>\n      <td>31</td>\n      <td>NaN</td>\n    </tr>\n    <tr>\n      <th>2018-09-30</th>\n      <td>2018-09-30</td>\n      <td>193176037</td>\n      <td>1568096598</td>\n      <td>NaN</td>\n      <td>30</td>\n      <td>NaN</td>\n    </tr>\n    <tr>\n      <th>2018-10-31</th>\n      <td>2018-10-31</td>\n      <td>202009557</td>\n      <td>2215626318</td>\n      <td>2.904522e+10</td>\n      <td>31</td>\n      <td>8.188954</td>\n    </tr>\n    <tr>\n      <th>2018-11-30</th>\n      <td>2018-11-30</td>\n      <td>209597872</td>\n      <td>3189876926</td>\n      <td>3.025477e+10</td>\n      <td>30</td>\n      <td>8.428779</td>\n    </tr>\n    <tr>\n      <th>2018-12-31</th>\n      <td>2018-12-31</td>\n      <td>226779205</td>\n      <td>3414075789</td>\n      <td>3.026618e+10</td>\n      <td>31</td>\n      <td>8.822199</td>\n    </tr>\n    <tr>\n      <th>2019-01-31</th>\n      <td>2019-01-31</td>\n      <td>229976111</td>\n      <td>4118475901</td>\n      <td>3.022862e+10</td>\n      <td>31</td>\n      <td>8.957680</td>\n    </tr>\n    <tr>\n      <th>2019-02-28</th>\n      <td>2019-02-28</td>\n      <td>216562784</td>\n      <td>3118599805</td>\n      <td>2.905661e+10</td>\n      <td>28</td>\n      <td>9.715691</td>\n    </tr>\n    <tr>\n      <th>2019-03-31</th>\n      <td>2019-03-31</td>\n      <td>240491102</td>\n      <td>3005621893</td>\n      <td>2.775089e+10</td>\n      <td>31</td>\n      <td>10.203598</td>\n    </tr>\n    <tr>\n      <th>2019-04-30</th>\n      <td>2019-04-30</td>\n      <td>227683108</td>\n      <td>2105863413</td>\n      <td>2.766437e+10</td>\n      <td>30</td>\n      <td>10.013403</td>\n    </tr>\n    <tr>\n      <th>2019-05-31</th>\n      <td>2019-05-31</td>\n      <td>238539770</td>\n      <td>1942728725</td>\n      <td>2.818159e+10</td>\n      <td>31</td>\n      <td>9.966129</td>\n    </tr>\n    <tr>\n      <th>2019-06-30</th>\n      <td>2019-06-30</td>\n      <td>234319613</td>\n      <td>1317631640</td>\n      <td>2.834090e+10</td>\n      <td>30</td>\n      <td>10.059272</td>\n    </tr>\n    <tr>\n      <th>2019-07-31</th>\n      <td>2019-07-31</td>\n      <td>251220236</td>\n      <td>1284746568</td>\n      <td>2.861844e+10</td>\n      <td>31</td>\n      <td>10.335698</td>\n    </tr>\n    <tr>\n      <th>2019-08-31</th>\n      <td>2019-08-31</td>\n      <td>247123140</td>\n      <td>1500219071</td>\n      <td>2.878156e+10</td>\n      <td>31</td>\n      <td>10.109513</td>\n    </tr>\n    <tr>\n      <th>2019-09-30</th>\n      <td>2019-09-30</td>\n      <td>259419956</td>\n      <td>1685802654</td>\n      <td>2.889927e+10</td>\n      <td>30</td>\n      <td>10.921647</td>\n    </tr>\n    <tr>\n      <th>2019-10-31</th>\n      <td>2019-10-31</td>\n      <td>272097925</td>\n      <td>2599070384</td>\n      <td>2.928271e+10</td>\n      <td>31</td>\n      <td>10.940700</td>\n    </tr>\n    <tr>\n      <th>2019-11-30</th>\n      <td>2019-11-30</td>\n      <td>108116884</td>\n      <td>1302302332</td>\n      <td>2.739514e+10</td>\n      <td>30</td>\n      <td>4.801663</td>\n    </tr>\n  </tbody>\n</table>\n</div>",
      "text/plain": "                   mn        bio        cons      yearcons  days  \\\nGasDay                                                             \n2017-11-30 2017-11-30   93042317  1980326988           NaN    30   \n2017-12-31 2017-12-31  166915253  3402667812           NaN    31   \n2018-01-31 2018-01-31  162328416  4156028550           NaN    31   \n2018-02-28 2018-02-28  149595805  4290611682           NaN    28   \n2018-03-31 2018-03-31  162545142  4311347919           NaN    31   \n2018-04-30 2018-04-30  157072701  2192381331           NaN    30   \n2018-05-31 2018-05-31  171497795  1425508440           NaN    31   \n2018-06-30 2018-06-30  166200918  1158314496           NaN    30   \n2018-07-31 2018-07-31  185848469  1007209600           NaN    31   \n2018-08-31 2018-08-31  190265750  1337098157           NaN    31   \n2018-09-30 2018-09-30  193176037  1568096598           NaN    30   \n2018-10-31 2018-10-31  202009557  2215626318  2.904522e+10    31   \n2018-11-30 2018-11-30  209597872  3189876926  3.025477e+10    30   \n2018-12-31 2018-12-31  226779205  3414075789  3.026618e+10    31   \n2019-01-31 2019-01-31  229976111  4118475901  3.022862e+10    31   \n2019-02-28 2019-02-28  216562784  3118599805  2.905661e+10    28   \n2019-03-31 2019-03-31  240491102  3005621893  2.775089e+10    31   \n2019-04-30 2019-04-30  227683108  2105863413  2.766437e+10    30   \n2019-05-31 2019-05-31  238539770  1942728725  2.818159e+10    31   \n2019-06-30 2019-06-30  234319613  1317631640  2.834090e+10    30   \n2019-07-31 2019-07-31  251220236  1284746568  2.861844e+10    31   \n2019-08-31 2019-08-31  247123140  1500219071  2.878156e+10    31   \n2019-09-30 2019-09-30  259419956  1685802654  2.889927e+10    30   \n2019-10-31 2019-10-31  272097925  2599070384  2.928271e+10    31   \n2019-11-30 2019-11-30  108116884  1302302332  2.739514e+10    30   \n\n            KWhFromBiogas  \nGasDay                     \n2017-11-30            NaN  \n2017-12-31            NaN  \n2018-01-31            NaN  \n2018-02-28            NaN  \n2018-03-31            NaN  \n2018-04-30            NaN  \n2018-05-31            NaN  \n2018-06-30            NaN  \n2018-07-31            NaN  \n2018-08-31            NaN  \n2018-09-30            NaN  \n2018-10-31       8.188954  \n2018-11-30       8.428779  \n2018-12-31       8.822199  \n2019-01-31       8.957680  \n2019-02-28       9.715691  \n2019-03-31      10.203598  \n2019-04-30      10.013403  \n2019-05-31       9.966129  \n2019-06-30      10.059272  \n2019-07-31      10.335698  \n2019-08-31      10.109513  \n2019-09-30      10.921647  \n2019-10-31      10.940700  \n2019-11-30       4.801663  "
     },
     "execution_count": 7,
     "metadata": {},
     "output_type": "execute_result"
    }
   ],
   "source": [
    "\"\"\"\n",
    "select LEFT(TO_CHAR(mn, 'MON'), 2) as \"GasDay\", round( CAST(float8 (bio * 365 / days / yearcons * 100) as numeric), 1) as \"KWhFromBiogas\"\n",
    "from c2 \n",
    "where mn >= cast(date_trunc('month', now() AT TIME ZONE 'Europe/Rome' - interval '1 year') as date)\n",
    "order by mn\n",
    "\"\"\"\n",
    "\n",
    "c2['KWhFromBiogas'] = (c2.bio * 365 / c2.days / c2.yearcons * 100)\n",
    "c2"
   ]
  },
  {
   "cell_type": "markdown",
   "metadata": {},
   "source": [
    "And we've got the same numbers as in the graph!"
   ]
  },
  {
   "cell_type": "code",
   "execution_count": 8,
   "metadata": {},
   "outputs": [
    {
     "name": "stdout",
     "output_type": "stream",
     "text": "with b as (\nSELECT \"Minutes5UTC\", date_trunc('hour', \"Minutes5UTC\") as hourutc, date_trunc('hour', \"Minutes5DK\") as hourdk, \"PriceArea\", \"CO2Emission\"\n  FROM \"d856694b-5e0e-463b-acc4-d9d7d895128a\" \n  WHERE \"PriceArea\" = 'DK1' \n    AND \"Minutes5UTC\" >= (current_timestamp at time zone 'UTC') \n    AND \"Minutes5UTC\" < ((current_timestamp at time zone 'UTC') + INTERVAL '6 hours')       \n)\n, a as (\nselect hourutc, CAST(AVG(\"CO2Emission\") as INTEGER) AS CO2\n from b\n GROUP BY hourutc \n ORDER BY hourutc ASC LIMIT 6\n)\nselect distinct to_char(b.hourDK, 'HH24:MI') as \"Minutes5DK\", b.\"PriceArea\", b.hourDK, a.CO2 as \"CO2Emission\" from a\ninner join b on a.hourutc = b.hourutc\norder by b.hourDK ASC limit 6\n"
    }
   ],
   "source": [
    "print(\"\"\"with b as (\\r\\nSELECT \\\"Minutes5UTC\\\", date_trunc('hour', \\\"Minutes5UTC\\\") as hourutc, date_trunc('hour', \\\"Minutes5DK\\\") as hourdk, \\\"PriceArea\\\", \\\"CO2Emission\\\"\\r\\n  FROM \\\"d856694b-5e0e-463b-acc4-d9d7d895128a\\\" \\r\\n  WHERE \\\"PriceArea\\\" = 'DK1' \\r\\n    AND \\\"Minutes5UTC\\\" >= (current_timestamp at time zone 'UTC') \\r\\n    AND \\\"Minutes5UTC\\\" < ((current_timestamp at time zone 'UTC') + INTERVAL '6 hours')       \\r\\n)\\r\\n, a as (\\r\\nselect hourutc, CAST(AVG(\\\"CO2Emission\\\") as INTEGER) AS CO2\\r\\n from b\\r\\n GROUP BY hourutc \\r\\n ORDER BY hourutc ASC LIMIT 6\\r\\n)\\r\\nselect distinct to_char(b.hourDK, 'HH24:MI') as \\\"Minutes5DK\\\", b.\\\"PriceArea\\\", b.hourDK, a.CO2 as \\\"CO2Emission\\\" from a\\r\\ninner join b on a.hourutc = b.hourutc\\r\\norder by b.hourDK ASC limit 6\"\"\")"
   ]
  },
  {
   "cell_type": "code",
   "execution_count": 19,
   "metadata": {},
   "outputs": [
    {
     "data": {
      "text/html": "<div>\n<style scoped>\n    .dataframe tbody tr th:only-of-type {\n        vertical-align: middle;\n    }\n\n    .dataframe tbody tr th {\n        vertical-align: top;\n    }\n\n    .dataframe thead th {\n        text-align: right;\n    }\n</style>\n<table border=\"1\" class=\"dataframe\">\n  <thead>\n    <tr style=\"text-align: right;\">\n      <th></th>\n      <th>month</th>\n      <th>Biogas Share</th>\n    </tr>\n    <tr>\n      <th>GasDay</th>\n      <th></th>\n      <th></th>\n    </tr>\n  </thead>\n  <tbody>\n    <tr>\n      <th>2018-11-30</th>\n      <td>Nov</td>\n      <td>8.428779</td>\n    </tr>\n    <tr>\n      <th>2018-12-31</th>\n      <td>Dec</td>\n      <td>8.822199</td>\n    </tr>\n    <tr>\n      <th>2019-01-31</th>\n      <td>Jan</td>\n      <td>8.957680</td>\n    </tr>\n    <tr>\n      <th>2019-02-28</th>\n      <td>Feb</td>\n      <td>9.715691</td>\n    </tr>\n    <tr>\n      <th>2019-03-31</th>\n      <td>Mar</td>\n      <td>10.203598</td>\n    </tr>\n    <tr>\n      <th>2019-04-30</th>\n      <td>Apr</td>\n      <td>10.013403</td>\n    </tr>\n    <tr>\n      <th>2019-05-31</th>\n      <td>May</td>\n      <td>9.966129</td>\n    </tr>\n    <tr>\n      <th>2019-06-30</th>\n      <td>Jun</td>\n      <td>10.059272</td>\n    </tr>\n    <tr>\n      <th>2019-07-31</th>\n      <td>Jul</td>\n      <td>10.335698</td>\n    </tr>\n    <tr>\n      <th>2019-08-31</th>\n      <td>Aug</td>\n      <td>10.109513</td>\n    </tr>\n    <tr>\n      <th>2019-09-30</th>\n      <td>Sep</td>\n      <td>10.921647</td>\n    </tr>\n    <tr>\n      <th>2019-10-31</th>\n      <td>Oct</td>\n      <td>10.940700</td>\n    </tr>\n  </tbody>\n</table>\n</div>",
      "text/plain": "           month  Biogas Share\nGasDay                        \n2018-11-30   Nov      8.428779\n2018-12-31   Dec      8.822199\n2019-01-31   Jan      8.957680\n2019-02-28   Feb      9.715691\n2019-03-31   Mar     10.203598\n2019-04-30   Apr     10.013403\n2019-05-31   May      9.966129\n2019-06-30   Jun     10.059272\n2019-07-31   Jul     10.335698\n2019-08-31   Aug     10.109513\n2019-09-30   Sep     10.921647\n2019-10-31   Oct     10.940700"
     },
     "execution_count": 19,
     "metadata": {},
     "output_type": "execute_result"
    }
   ],
   "source": [
    "biogas_share_last_year = c2[(c2['mn'] >= '2018-11-30') & (c2['mn'] < '2019-11-30')][['mn', 'KWhFromBiogas']]\n",
    "biogas_share_last_year.columns = ['month', 'Biogas Share']\n",
    "biogas_share_last_year.month = biogas_share_last_year.month.dt.month_name().str.slice(stop=3)\n",
    "biogas_share_last_year"
   ]
  },
  {
   "cell_type": "code",
   "execution_count": 20,
   "metadata": {},
   "outputs": [],
   "source": [
    "biogas_share_last_year.to_csv('biogas_share_last_year.csv')"
   ]
  }
 ],
 "metadata": {
  "file_extension": ".py",
  "kernelspec": {
   "display_name": "Python 3",
   "language": "python",
   "name": "python3"
  },
  "language_info": {
   "codemirror_mode": {
    "name": "ipython",
    "version": 3
   },
   "file_extension": ".py",
   "mimetype": "text/x-python",
   "name": "python",
   "nbconvert_exporter": "python",
   "pygments_lexer": "ipython3",
   "version": "3.7.5"
  },
  "mimetype": "text/x-python",
  "name": "python",
  "npconvert_exporter": "python",
  "pygments_lexer": "ipython3",
  "version": 3
 },
 "nbformat": 4,
 "nbformat_minor": 2
}